{
 "cells": [
  {
   "cell_type": "markdown",
   "id": "6af98a16",
   "metadata": {},
   "source": [
    "🧮 Two Sum Problem\n",
    "\n",
    "\n",
    "Given an array of integers nums and an integer target, return the indices of the two numbers such that they add up to the target.\n",
    "\n",
    "You may assume:\n",
    "\n",
    "Exactly one solution exists\n",
    "\n",
    "You may not use the same element twice\n",
    "\n",
    "Return the answer in any order\n",
    "\n",
    "📥 Input\n",
    "nums: array of integers\n",
    "\n",
    "target: integer\n",
    "\n",
    "📤 Output\n",
    "Indices of the two numbers in the array that sum up to the target\n",
    "\n",
    "🧪 Examples\n",
    "\n",
    "Example 1\n",
    "\n",
    "txt\n",
    "\n",
    "Input: nums = [2, 7, 11, 15], target = 9\n",
    "\n",
    "Output: [0, 1]\n",
    "\n",
    "Explanation: nums[0] + nums[1] == 9 → return [0, 1]\n",
    "\n",
    "Example 2\n",
    "\n",
    "txt\n",
    "\n",
    "Input: nums = [3, 2, 4], target = 6\n",
    "\n",
    "Output: [1, 2]\n",
    "\n",
    "Example 3\n",
    "\n",
    "txt\n",
    "\n",
    "Input: nums = [3, 3], target = 6\n",
    "\n",
    "Output: [0, 1]\n",
    "\n",
    "✅ Constraints\n",
    "\n",
    "2 <= nums.length <= 10⁴\n",
    "\n",
    "-10⁹ <= nums[i] <= 10⁹\n",
    "\n",
    "-10⁹ <= target <= 10⁹\n",
    "\n",
    "Only one valid answer exists"
   ]
  },
  {
   "cell_type": "code",
   "execution_count": 1,
   "id": "73b8ede7",
   "metadata": {},
   "outputs": [
    {
     "name": "stdout",
     "output_type": "stream",
     "text": [
      "[0, 1]\n"
     ]
    }
   ],
   "source": [
    "from typing import List\n",
    "class Solution:\n",
    "    def twoSum(self, nums: List[int], target: int) -> List[int]:\n",
    "        seen = {}\n",
    "        for i, num in enumerate(nums):\n",
    "            complement = target - num\n",
    "            if complement in seen:\n",
    "                return [seen[complement], i]\n",
    "            seen[num] = i\n",
    "\n",
    "\n",
    "sol = Solution()\n",
    "result = sol.twoSum([2,7,11,15],9)\n",
    "print(result)\n",
    "        "
   ]
  }
 ],
 "metadata": {
  "kernelspec": {
   "display_name": "Python 3",
   "language": "python",
   "name": "python3"
  },
  "language_info": {
   "codemirror_mode": {
    "name": "ipython",
    "version": 3
   },
   "file_extension": ".py",
   "mimetype": "text/x-python",
   "name": "python",
   "nbconvert_exporter": "python",
   "pygments_lexer": "ipython3",
   "version": "3.13.5"
  }
 },
 "nbformat": 4,
 "nbformat_minor": 5
}
