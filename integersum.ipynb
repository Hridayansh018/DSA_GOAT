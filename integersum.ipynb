{
 "cells": [
  {
   "cell_type": "code",
   "execution_count": null,
   "id": "93a08577",
   "metadata": {},
   "outputs": [],
   "source": [
    "class Solution:\n",
    "    def getSum(self, a: int, b: int) -> int:\n",
    "        self.a = a\n",
    "        self.b = b\n",
    "\n",
    "        while b != 0:\n",
    "            carry = a & b\n",
    "\n",
    "            a = a^b\n",
    "            b = carry << 1\n",
    "        return a"
   ]
  }
 ],
 "metadata": {
  "language_info": {
   "name": "python"
  }
 },
 "nbformat": 4,
 "nbformat_minor": 5
}
