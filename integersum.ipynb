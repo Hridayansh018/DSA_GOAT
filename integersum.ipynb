{
 "cells": [
  {
   "cell_type": "markdown",
   "id": "5de4aa97",
   "metadata": {},
   "source": [
    "### 371. Sum of Two Integers\n",
    "\n",
    "Given two integers a and b, return the sum of the two integers without using the operators + and -.\n",
    "\n",
    " \n",
    "```\n",
    "Example 1:\n",
    "Input: a = 1, b = 2\n",
    "Output: 3\n",
    "```\n",
    "\n",
    "```\n",
    "Example 2:\n",
    "Input: a = 2, b = 3\n",
    "Output: 5\n",
    " ```\n",
    "\n",
    "Constraints:\n",
    "\n",
    "-1000 <= a, b <= 1000\n",
    "\n",
    "=================================================\n",
    "\n",
    "- a ^ b → adds the bits but ignores the carry.\n",
    "- a & b → finds where a carry would occur.\n",
    "- carry << 1 → shifts the carry so it can be added at the next higher bit.\n",
    "\n",
    "================================================="
   ]
  },
  {
   "cell_type": "code",
   "execution_count": null,
   "id": "93a08577",
   "metadata": {},
   "outputs": [],
   "source": [
    "class Solution:\n",
    "    def getSum(self, a: int, b: int) -> int:\n",
    "        self.a = a\n",
    "        self.b = b\n",
    "\n",
    "        while b != 0:\n",
    "            carry = a & b\n",
    "\n",
    "            a = a^b\n",
    "            b = carry << 1\n",
    "        return a"
   ]
  }
 ],
 "metadata": {
  "language_info": {
   "name": "python"
  }
 },
 "nbformat": 4,
 "nbformat_minor": 5
}
